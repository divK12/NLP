{
  "nbformat": 4,
  "nbformat_minor": 0,
  "metadata": {
    "colab": {
      "provenance": [],
      "gpuType": "T4"
    },
    "kernelspec": {
      "name": "python3",
      "display_name": "Python 3"
    },
    "language_info": {
      "name": "python"
    },
    "accelerator": "GPU"
  },
  "cells": [
    {
      "cell_type": "code",
      "execution_count": null,
      "metadata": {
        "id": "ozJTPzT34PS1",
        "colab": {
          "base_uri": "https://localhost:8080/"
        },
        "outputId": "53aba9c7-3fb2-4de0-f193-0e2c88e638f2"
      },
      "outputs": [
        {
          "output_type": "stream",
          "name": "stdout",
          "text": [
            "Mounted at /content/drive\n"
          ]
        }
      ],
      "source": [
        "from google.colab import drive\n",
        "drive.mount('/content/drive')\n"
      ]
    },
    {
      "cell_type": "code",
      "source": [
        "import torch\n",
        "import torch.nn as nn\n",
        "import matplotlib.pyplot as plt\n",
        "import numpy as np\n",
        "from tqdm import tqdm\n"
      ],
      "metadata": {
        "id": "Vy9gjl2S6RqU",
        "colab": {
          "base_uri": "https://localhost:8080/"
        },
        "outputId": "aaceefb2-5909-4f8d-fc55-6efaeb3c2e11"
      },
      "execution_count": null,
      "outputs": [
        {
          "output_type": "stream",
          "name": "stderr",
          "text": [
            "/usr/local/lib/python3.10/dist-packages/torch_xla/__init__.py:253: UserWarning: `tensorflow` can conflict with `torch-xla`. Prefer `tensorflow-cpu` when using PyTorch/XLA. To silence this warning, `pip uninstall -y tensorflow && pip install tensorflow-cpu`. If you are in a notebook environment such as Colab or Kaggle, restart your notebook runtime afterwards.\n",
            "  warnings.warn(\n"
          ]
        }
      ]
    },
    {
      "cell_type": "markdown",
      "source": [
        "### Retrieveing the abstract"
      ],
      "metadata": {
        "id": "1ebxfpAte9vT"
      }
    },
    {
      "cell_type": "code",
      "source": [
        "import zipfile\n",
        "\n",
        "# Unzip file\n",
        "with zipfile.ZipFile('/content/drive/MyDrive/pdf_json.zip', 'r') as zip_ref:\n",
        "    zip_ref.extractall('/content/extract')\n",
        "\n"
      ],
      "metadata": {
        "id": "Hv9uWj3Wd8Ym"
      },
      "execution_count": null,
      "outputs": []
    },
    {
      "cell_type": "code",
      "source": [
        "%%time\n",
        "'''extracting abstract from the json'''\n",
        "import os\n",
        "import json\n",
        "import pandas as pd\n",
        "import multiprocessing as mp\n",
        "from multiprocessing import Pool\n",
        "\n",
        "# Function to convert JSON to text\n",
        "def json2text(filename):\n",
        "    with open(filename, 'r') as file:\n",
        "        paper_content = json.load(file)\n",
        "\n",
        "    abstract = \"\"\n",
        "    # Get the abstract\n",
        "    if 'abstract' in paper_content:\n",
        "        for abs in paper_content['abstract']:\n",
        "            abstract += abs['text']\n",
        "\n",
        "    return (f'{abstract}').lower()\n",
        "\n",
        "# Function to write converted text to file\n",
        "def write_file(filename):\n",
        "    # Convert JSON to text\n",
        "    content = json2text(filename)\n",
        "\n",
        "    # Define the output file path\n",
        "    base_name = os.path.splitext(os.path.basename(filename))[0]\n",
        "    output_dir = '/content/pdf_text'  # desired output directory\n",
        "    os.makedirs(output_dir, exist_ok=True)  # Ensure the output directory exists\n",
        "    output_file = os.path.join(output_dir, f'{base_name}.txt')\n",
        "\n",
        "    # Writing the content to a .txt file\n",
        "    with open(output_file, 'w') as file:\n",
        "        file.write(content)\n",
        "\n",
        "# Function for parallel processing\n",
        "def par_write(files):\n",
        "    \"\"\"\n",
        "    Read a chunk of files and let the cores of your machine\n",
        "    do the job of format conversion in parallel\n",
        "    \"\"\"\n",
        "    cpu_count = os.cpu_count()\n",
        "    p = Pool(processes=cpu_count)\n",
        "    p.map(write_file, files, chunksize=16)\n",
        "    p.close()\n",
        "\n",
        "# Directory path for JSON files\n",
        "dir_path = '/content/extract/pdf_json'\n",
        "\n",
        "# List all JSON files in the directory\n",
        "json_files = [os.path.join(dir_path, f) for f in os.listdir(dir_path) if f.endswith('.json')]\n",
        "\n",
        "# Process the files in parallel\n",
        "par_write(json_files)\n"
      ],
      "metadata": {
        "colab": {
          "base_uri": "https://localhost:8080/"
        },
        "id": "ydzEP0Z0gBh5",
        "outputId": "031ff5f8-0b5d-4a5d-e147-536cb8a1ecbc"
      },
      "execution_count": null,
      "outputs": [
        {
          "output_type": "stream",
          "name": "stdout",
          "text": [
            "CPU times: user 3.7 s, sys: 371 ms, total: 4.07 s\n",
            "Wall time: 1min 6s\n"
          ]
        }
      ]
    },
    {
      "cell_type": "code",
      "source": [
        "# Delete the folder and its contents using shell command\n",
        "!rm -rf /content/extract"
      ],
      "metadata": {
        "id": "zJRxMddLfJl0"
      },
      "execution_count": null,
      "outputs": []
    },
    {
      "cell_type": "code",
      "source": [
        "def remove_urls(text):\n",
        "  '''removes all urls and email ids using regular expression'''\n",
        "\n",
        "  url_pattern = r'https?://\\S+|www\\.\\S+'\n",
        "  email_id_pattern=r\"\\S*@\\S*\\s?\"\n",
        "  clean_text=re.sub(url_pattern, '', text)\n",
        "  clean_text=re.sub(email_id_pattern, '', clean_text)\n",
        "\n",
        "  return clean_text\n",
        "\n",
        "def remove_single_letters(text):\n",
        "  '''removes all single letters except a '''\n",
        "  single_letters= r'\\b[b-zB-Z]\\b'\n",
        "  cleaned_text = re.sub(single_letters, '', text)\n",
        "  return cleaned_text\n",
        "\n",
        "def remove_brackets(text):\n",
        "    '''Removes text inside brackets '''\n",
        "    return re.sub(r'\\(.*?\\)', '', text)\n",
        "\n",
        "def remove_num_spl_char(text):\n",
        "  '''removes all numeric and special characters'''\n",
        "  corpus_num=re.sub(r'\\d+', '', text)\n",
        "  return re.sub('[^\\w\\s]', '', corpus_num)\n",
        "\n",
        "def remove_whitespace(text):\n",
        "  '''it removes all extra whitespace'''\n",
        "  return \" \".join(text.split())\n"
      ],
      "metadata": {
        "id": "qkfqLvnFflYH"
      },
      "execution_count": null,
      "outputs": []
    },
    {
      "cell_type": "code",
      "source": [
        "%%time\n",
        "import os\n",
        "import re\n",
        "from multiprocessing import Pool\n",
        "\n",
        "def preprocess(text):\n",
        "\n",
        "    rem_urls=remove_urls(text)\n",
        "    rem_bracket_ct=remove_brackets(rem_urls)\n",
        "    rem_num_spl_char=remove_num_spl_char(rem_bracket_ct)\n",
        "    rem_singlechar=remove_single_letters(rem_num_spl_char)\n",
        "    cleaned_text=remove_whitespace(rem_singlechar)\n",
        "\n",
        "    return cleaned_text\n",
        "\n",
        "def preprocess_file(filename):\n",
        "    \"\"\"\n",
        "    Read the content of a file, preprocess it, and save the cleaned text back to the file.\n",
        "    \"\"\"\n",
        "    with open(filename, 'r') as file:\n",
        "        text = file.read()\n",
        "          # Preprocess text\n",
        "    content = preprocess(text)\n",
        "\n",
        "    with open(filename, 'w') as file:\n",
        "        file.write(content)\n",
        "\n",
        "def par_write(files):\n",
        "    \"\"\"\n",
        "    Process a list of files in parallel and save the cleaned text back to the files.\n",
        "    \"\"\"\n",
        "    cpu_count = os.cpu_count()\n",
        "    p = Pool(processes=cpu_count)\n",
        "    p.map(preprocess_file, files, chunksize=50)\n",
        "    p.close()\n",
        "\n",
        "# Example usage\n",
        "dir_path = '/content/pdf_text'\n",
        "txt_files = [os.path.join(dir_path, f) for f in os.listdir(dir_path) if f.endswith('.txt')]\n",
        "par_write(txt_files)\n"
      ],
      "metadata": {
        "colab": {
          "base_uri": "https://localhost:8080/"
        },
        "id": "0KAsjdsogGFd",
        "outputId": "875714a9-3e94-4744-9712-464ec61e1a5a"
      },
      "execution_count": null,
      "outputs": [
        {
          "output_type": "stream",
          "name": "stdout",
          "text": [
            "CPU times: user 1.65 s, sys: 149 ms, total: 1.8 s\n",
            "Wall time: 15.2 s\n"
          ]
        }
      ]
    },
    {
      "cell_type": "code",
      "source": [
        "from tqdm import tqdm\n",
        "\n",
        "file_contents = []\n",
        "\n",
        "for file_path in tqdm(txt_files, desc=\"Reading files\"):\n",
        "    try:\n",
        "        with open(file_path, 'r') as f:\n",
        "            content = f.read().strip()  # Remove leading/trailing whitespace\n",
        "            if content:  # Only add non-empty content\n",
        "                file_contents.append(content)\n",
        "                if len(file_contents) == 38000:  # Stop after 500 non-empty files\n",
        "                    break\n",
        "    except Exception as e:\n",
        "        print(f\"An error occurred while reading {file_path}: {e}\")\n",
        "\n",
        "# Now `file_contents` contains the content of up to 500 non-empty files\n",
        "print(f\"Total non-empty files read: {len(file_contents)}\")\n",
        "\n",
        "# Optionally, write the content to a file\n",
        "dir = \"/content/Abstract_corpus.txt\"\n",
        "with open(dir, 'w') as output_file:\n",
        "    for content in file_contents:\n",
        "        output_file.write(content + \"\\n\")\n",
        "\n"
      ],
      "metadata": {
        "colab": {
          "base_uri": "https://localhost:8080/"
        },
        "outputId": "85c5023e-486b-4019-f323-4971872c67ca",
        "id": "vSi36cBYDyby"
      },
      "execution_count": null,
      "outputs": [
        {
          "output_type": "stream",
          "name": "stderr",
          "text": [
            "Reading files:  99%|█████████▉| 56043/56528 [00:01<00:00, 42157.25it/s]\n"
          ]
        },
        {
          "output_type": "stream",
          "name": "stdout",
          "text": [
            "Total non-empty files read: 38000\n"
          ]
        }
      ]
    },
    {
      "cell_type": "markdown",
      "source": [
        "# Creating Dataset for training"
      ],
      "metadata": {
        "id": "Synx11y65jcC"
      }
    },
    {
      "cell_type": "code",
      "source": [
        "with open(dir,'r') as f:\n",
        "    corpus=f.read().split(\"\\n\")"
      ],
      "metadata": {
        "id": "P1QhlqVT0p8q"
      },
      "execution_count": null,
      "outputs": []
    },
    {
      "cell_type": "code",
      "source": [
        "pip install nltk"
      ],
      "metadata": {
        "colab": {
          "base_uri": "https://localhost:8080/"
        },
        "id": "DFFp9i7SqzlV",
        "outputId": "079f6c69-fd6a-47f2-9164-21be2d324c5d"
      },
      "execution_count": null,
      "outputs": [
        {
          "output_type": "stream",
          "name": "stdout",
          "text": [
            "Requirement already satisfied: nltk in /usr/local/lib/python3.10/dist-packages (3.9.1)\n",
            "Requirement already satisfied: click in /usr/local/lib/python3.10/dist-packages (from nltk) (8.1.7)\n",
            "Requirement already satisfied: joblib in /usr/local/lib/python3.10/dist-packages (from nltk) (1.4.2)\n",
            "Requirement already satisfied: regex>=2021.8.3 in /usr/local/lib/python3.10/dist-packages (from nltk) (2024.9.11)\n",
            "Requirement already satisfied: tqdm in /usr/local/lib/python3.10/dist-packages (from nltk) (4.66.6)\n"
          ]
        }
      ]
    },
    {
      "cell_type": "code",
      "source": [
        "corpus[0]"
      ],
      "metadata": {
        "trusted": true,
        "execution": {
          "iopub.status.busy": "2024-12-05T11:57:31.383678Z",
          "iopub.execute_input": "2024-12-05T11:57:31.384038Z",
          "iopub.status.idle": "2024-12-05T11:57:31.389834Z",
          "shell.execute_reply.started": "2024-12-05T11:57:31.384008Z",
          "shell.execute_reply": "2024-12-05T11:57:31.388948Z"
        },
        "id": "yx9LRTBK0auX",
        "outputId": "221c8b53-9e2e-466f-980f-8fbf278b032e"
      },
      "outputs": [
        {
          "execution_count": 36,
          "output_type": "execute_result",
          "data": {
            "text/plain": "'we study the problem usually referred to as group testing in the context of covid given samples collected from patients how should we select and test mixtures of samples to maximize information and minimize the number of tests group testing is a wellstudied problem with several appealing solutions but recent biological studies impose practical constraints for covid that are incompatible with traditional methods furthermore existing methods use unnecessarily restrictive solutions which were devised for settings with more memory and compute constraints than the problem at hand this results in poor utility in the new setting we obtain strong solutions for small values of using evolutionary strategies we then develop a new method combining bloom filters with belief propagation to scale to larger values of with good empirical results we also present a more accurate decoding algorithm that is tailored for specific covid settings this work demonstrates the practical gap between dedicated algorithms and wellknown generic solutions our efforts results in a new and practical multiplex method yielding strong empirical performance without mixing more than a chosen number of patients into the same probe finally we briefly discuss adaptive methods casting them into the framework of adaptive submodularitypreprint under review'"
          },
          "metadata": {}
        }
      ],
      "execution_count": null
    },
    {
      "cell_type": "code",
      "source": [
        "import torch\n",
        "import torch.nn as nn\n",
        "import numpy as np\n",
        "\n",
        "device = torch.device(\"cuda\" if torch.cuda.is_available() else \"cpu\")"
      ],
      "metadata": {
        "id": "gZWzdVOtq-FC"
      },
      "execution_count": null,
      "outputs": []
    },
    {
      "cell_type": "code",
      "source": [
        "import nltk\n",
        "nltk.download('punkt_tab')\n",
        "from nltk.tokenize import word_tokenize\n",
        "\n",
        "tokens = [word_tokenize(abstract.lower()) for abstract in corpus]  # Tokenize each abstract and convert to lowercase\n",
        "corpus_txt = [token for sublist in tokens for token in sublist]  # Flatten the list\n"
      ],
      "metadata": {
        "trusted": true,
        "execution": {
          "iopub.status.busy": "2024-12-05T11:57:32.813613Z",
          "iopub.execute_input": "2024-12-05T11:57:32.814475Z",
          "iopub.status.idle": "2024-12-05T11:58:06.155452Z",
          "shell.execute_reply.started": "2024-12-05T11:57:32.81444Z",
          "shell.execute_reply": "2024-12-05T11:58:06.154403Z"
        },
        "id": "p4q2XbzX0auX",
        "outputId": "7a3dd4bc-b8a2-45ff-968f-44d90f87aad1"
      },
      "outputs": [
        {
          "name": "stdout",
          "text": "[nltk_data] Downloading package punkt_tab to /usr/share/nltk_data...\n[nltk_data]   Package punkt_tab is already up-to-date!\n",
          "output_type": "stream"
        }
      ],
      "execution_count": null
    },
    {
      "cell_type": "code",
      "source": [
        "word_to_idx = {}\n",
        "idx_to_word = {}\n",
        "for i, word in enumerate(corpus_txt):\n",
        "    if word not in word_to_idx:\n",
        "        word_to_idx[word] = i\n",
        "        idx_to_word[i] = word\n",
        "\n",
        "vocab_size = len(word_to_idx)"
      ],
      "metadata": {
        "trusted": true,
        "execution": {
          "iopub.status.busy": "2024-12-05T11:58:06.724374Z",
          "iopub.execute_input": "2024-12-05T11:58:06.724741Z",
          "iopub.status.idle": "2024-12-05T11:58:08.185336Z",
          "shell.execute_reply.started": "2024-12-05T11:58:06.724697Z",
          "shell.execute_reply": "2024-12-05T11:58:08.184501Z"
        },
        "id": "MxNpQ1u90auY"
      },
      "outputs": [],
      "execution_count": null
    },
    {
      "cell_type": "code",
      "source": [
        "input_list = []\n",
        "target_list = []\n",
        "\n",
        "for i in range(vocab_size - 10):\n",
        "    input_list.append([word_to_idx[word] for word in corpus_txt[i:i + 10]])\n",
        "    target_list.append(word_to_idx[corpus_txt[i + 10]])\n",
        "\n"
      ],
      "metadata": {
        "trusted": true,
        "execution": {
          "iopub.status.busy": "2024-12-05T11:58:08.187223Z",
          "iopub.execute_input": "2024-12-05T11:58:08.187552Z",
          "iopub.status.idle": "2024-12-05T11:58:09.496739Z",
          "shell.execute_reply.started": "2024-12-05T11:58:08.187522Z",
          "shell.execute_reply": "2024-12-05T11:58:09.496027Z"
        },
        "id": "uEQjVcrv0auY"
      },
      "outputs": [],
      "execution_count": null
    },
    {
      "cell_type": "code",
      "source": [
        "for idx in input_list[19]:\n",
        "    print(idx_to_word[idx])\n"
      ],
      "metadata": {
        "trusted": true,
        "execution": {
          "iopub.status.busy": "2024-12-05T11:58:09.497787Z",
          "iopub.execute_input": "2024-12-05T11:58:09.498078Z",
          "iopub.status.idle": "2024-12-05T11:58:09.502441Z",
          "shell.execute_reply.started": "2024-12-05T11:58:09.498051Z",
          "shell.execute_reply": "2024-12-05T11:58:09.501584Z"
        },
        "id": "2MtA8DSw0auY",
        "outputId": "85967df4-a129-4c85-f8c7-6ce1d79553c1"
      },
      "outputs": [
        {
          "name": "stdout",
          "text": "patients\nhow\nshould\nwe\nselect\nand\ntest\nmixtures\nof\nsamples\n",
          "output_type": "stream"
        }
      ],
      "execution_count": null
    },
    {
      "cell_type": "code",
      "source": [
        "input_list = torch.tensor(input_list).to(device)\n",
        "target_list = torch.tensor(target_list).to(device)"
      ],
      "metadata": {
        "trusted": true,
        "execution": {
          "iopub.status.busy": "2024-12-05T11:58:09.50365Z",
          "iopub.execute_input": "2024-12-05T11:58:09.504013Z",
          "iopub.status.idle": "2024-12-05T11:58:10.286071Z",
          "shell.execute_reply.started": "2024-12-05T11:58:09.503973Z",
          "shell.execute_reply": "2024-12-05T11:58:10.285372Z"
        },
        "id": "9AZUCSbh0auY"
      },
      "outputs": [],
      "execution_count": null
    },
    {
      "cell_type": "markdown",
      "source": [
        "# Assignment 6 - Architecture and describe the architecture"
      ],
      "metadata": {
        "id": "rnjEy-JNEiVh"
      }
    },
    {
      "cell_type": "code",
      "source": [
        "class BiLSTM(nn.Module):\n",
        "    def __init__(self, input_size, output_size, hidden_size):\n",
        "        super(BiLSTM, self).__init__()\n",
        "        self.input_size = input_size\n",
        "        self.output_size = output_size\n",
        "        self.hidden_size = hidden_size\n",
        "\n",
        "        self.embedding = nn.Embedding(input_size, 128)\n",
        "\n",
        "        self.lstm = nn.LSTM(128, hidden_size, 2, bidirectional=True)\n",
        "\n",
        "        self.fc = nn.Linear(hidden_size*2, output_size)\n",
        "\n",
        "    def forward(self, input_seq):\n",
        "\n",
        "        x = self.embedding(input_seq)  # (batch_size, seq_len, embed_dim=128)\n",
        "\n",
        "\n",
        "        lstm_out, new_hidden_state = self.lstm(x.permute(1, 0, 2))  # (seq_len, batch_size, hidden_size * 2)\n",
        "\n",
        "\n",
        "        forward_hidden = new_hidden_state[-2][0]  # Forward hidden state from the last layer\n",
        "        backward_hidden = new_hidden_state[-1][0]  # Backward hidden state from the last layer\n",
        "\n",
        "\n",
        "        combined_hidden = (forward_hidden + backward_hidden) / 2  # (batch_size, hidden_size)\n",
        "\n",
        "\n",
        "        output = self.fc(combined_hidden)  # (batch_size, output_size)\n",
        "\n",
        "        return output,new_hidden_state\n",
        "\n"
      ],
      "metadata": {
        "trusted": true,
        "execution": {
          "iopub.status.busy": "2024-12-05T11:58:10.28719Z",
          "iopub.execute_input": "2024-12-05T11:58:10.287496Z",
          "iopub.status.idle": "2024-12-05T11:58:10.293965Z",
          "shell.execute_reply.started": "2024-12-05T11:58:10.287467Z",
          "shell.execute_reply": "2024-12-05T11:58:10.293063Z"
        },
        "id": "801UHhSP0auZ"
      },
      "outputs": [],
      "execution_count": null
    },
    {
      "cell_type": "markdown",
      "source": [
        "### Architecture:\n",
        "\n",
        "\n",
        "*   The first layer is an embedding layer that maps the input sequence of discrete tokens (e.g., word indices) into dense vector representations of size 128.\n",
        "  *  Input shape: (batch_size, seq_len)\n",
        "  *  Output shape: (batch_size, seq_len, embed_dim=128)\n",
        "*    BiLSTM Layer (nn.LSTM): a bidirectional LSTM layer. It takes as input the embedded sequences and learns both forward and backward temporal dependencies in the data.\n",
        "  * The LSTM is configured with:\n",
        "    * An input size of 128 (matching the embedding size).\n",
        "    * A hidden state size of hidden_size.\n",
        "    * 2 layers (stacked LSTMs).\n",
        "  * Output shape:\n",
        "   * LSTM output: (seq_len, batch_size, hidden_size * 2) (concatenation of forward and backward states at each time step).\n",
        "* A linear layer maps the combined hidden representation to the desired output size (output_size).\n",
        "Input shape: (batch_size, hidden_size)\n",
        "Output shape: (batch_size, output_size)\n",
        "* Returns:\n",
        "  * output: The final prediction logits of shape (batch_size, output_size).\n",
        "  * new_hidden_state: The updated hidden state of the LSTM, useful for further computation or recurrent tasks."
      ],
      "metadata": {
        "id": "MnWS_o0u65ms"
      }
    },
    {
      "cell_type": "markdown",
      "source": [
        "# Assignment 7: Training and plotting"
      ],
      "metadata": {
        "id": "Cg2sNUui5vu_"
      }
    },
    {
      "cell_type": "code",
      "source": [
        "def train(model,input_l,target_l):\n",
        "\n",
        "  batch_size=120\n",
        "  n_batches=len(input_l)//batch_size\n",
        "  if len(input_l)%batch_size!=0:\n",
        "      n_batches+=1\n",
        "\n",
        "\n",
        "  criterion = nn.CrossEntropyLoss()\n",
        "  optimizer = torch.optim.Adam(model.parameters(), lr=0.01)\n",
        "\n",
        "  total_loss=0.0\n",
        "  for i in range(n_batches):\n",
        "      input=input_l[i*batch_size:(i+1)*batch_size]\n",
        "      label=target_l[i*batch_size:(i+1)*batch_size]\n",
        "      output,_=model(input)\n",
        "      loss=criterion(output, label)\n",
        "      optimizer.zero_grad()\n",
        "      loss.backward()\n",
        "      optimizer.step()\n",
        "\n",
        "      total_loss+=loss.item()\n",
        "\n",
        "  return total_loss/n_batches\n",
        "\n"
      ],
      "metadata": {
        "trusted": true,
        "execution": {
          "iopub.status.busy": "2024-12-05T11:58:11.833106Z",
          "iopub.execute_input": "2024-12-05T11:58:11.833999Z",
          "iopub.status.idle": "2024-12-05T11:58:11.841207Z",
          "shell.execute_reply.started": "2024-12-05T11:58:11.833965Z",
          "shell.execute_reply": "2024-12-05T11:58:11.840244Z"
        },
        "id": "wyta49nd0auZ"
      },
      "outputs": [],
      "execution_count": null
    },
    {
      "cell_type": "code",
      "source": [
        "epochs=20\n",
        "loss=[]\n",
        "input_size=vocab_size\n",
        "output_size=vocab_size\n",
        "hidden_size=128\n",
        "\n",
        "model=BiLSTM(input_size, output_size, hidden_size).to(device)\n",
        "for i in range(epochs):\n",
        "  loss.append(train(model,input_list,target_list))\n",
        "  print(f\"Epoch {i+1}/{epochs}, Loss: {loss[-1]}\")"
      ],
      "metadata": {
        "trusted": true,
        "execution": {
          "iopub.status.busy": "2024-12-05T11:59:16.588292Z",
          "iopub.execute_input": "2024-12-05T11:59:16.588645Z",
          "iopub.status.idle": "2024-12-05T12:12:43.446525Z",
          "shell.execute_reply.started": "2024-12-05T11:59:16.588616Z",
          "shell.execute_reply": "2024-12-05T12:12:43.445378Z"
        },
        "id": "wPib6T640auZ",
        "outputId": "366922a4-dedf-42f8-fff2-8a0934705702"
      },
      "outputs": [
        {
          "name": "stdout",
          "text": "Epoch 1/20, Loss: 7.534766444465182\nEpoch 2/20, Loss: 6.911831600934464\nEpoch 3/20, Loss: 6.79532502502795\nEpoch 4/20, Loss: 6.663064009306447\nEpoch 5/20, Loss: 6.525866389116704\nEpoch 6/20, Loss: 6.3817294613415045\nEpoch 7/20, Loss: 6.268062424343943\nEpoch 8/20, Loss: 6.186849839797873\nEpoch 9/20, Loss: 6.073003002823583\nEpoch 10/20, Loss: 5.987416133501672\nEpoch 11/20, Loss: 5.919863439395728\nEpoch 12/20, Loss: 5.856034007609285\nEpoch 13/20, Loss: 5.8086378422793965\nEpoch 14/20, Loss: 5.762180236633251\nEpoch 15/20, Loss: 5.736493552757414\nEpoch 16/20, Loss: 5.700396503675853\nEpoch 17/20, Loss: 5.684711731506499\nEpoch 18/20, Loss: 5.663299322759868\nEpoch 19/20, Loss: 5.6406913861533665\nEpoch 20/20, Loss: 5.628498155391769\n",
          "output_type": "stream"
        }
      ],
      "execution_count": null
    },
    {
      "cell_type": "code",
      "source": [
        "import matplotlib.pyplot as plt\n",
        "plt.plot(loss)"
      ],
      "metadata": {
        "trusted": true,
        "execution": {
          "iopub.status.busy": "2024-12-05T12:14:32.477042Z",
          "iopub.execute_input": "2024-12-05T12:14:32.477408Z",
          "iopub.status.idle": "2024-12-05T12:14:32.727483Z",
          "shell.execute_reply.started": "2024-12-05T12:14:32.47738Z",
          "shell.execute_reply": "2024-12-05T12:14:32.726544Z"
        },
        "id": "ppi4Kp3e0auZ",
        "outputId": "b1ac0185-6f71-4196-fca9-9f3f8a3ce613"
      },
      "outputs": [
        {
          "execution_count": 47,
          "output_type": "execute_result",
          "data": {
            "text/plain": "[<matplotlib.lines.Line2D at 0x79b931d85ff0>]"
          },
          "metadata": {}
        },
        {
          "output_type": "display_data",
          "data": {
            "text/plain": "<Figure size 640x480 with 1 Axes>",
            "image/png": "[encoded data removed]"
          },
          "metadata": {}
        }
      ],
      "execution_count": null
    },
    {
      "cell_type": "markdown",
      "source": [
        "# Assignment 8: Abstract Generation"
      ],
      "metadata": {
        "id": "rwFLJ3Ly53z0"
      }
    },
    {
      "cell_type": "code",
      "source": [
        "def test_seq2(model, word_to_idx, idx_to_word, text, test_len, seq_len, device, temperature=1.0):\n",
        "    '''\n",
        "    model: Trained BiLSTM model\n",
        "    word_to_idx: Dictionary mapping words to indices\n",
        "    idx_to_word: Dictionary mapping indices to words\n",
        "    text: Initial seed text\n",
        "    test_len: Number of words to generate\n",
        "    seq_len: Length of input sequence expected by the model\n",
        "    device: The device to run the model on ('cpu' or 'cuda')\n",
        "    temperature: Controls the randomness of predictions (higher = more random)\n",
        "    '''\n",
        "\n",
        "    model.eval()\n",
        "    generated_text = text\n",
        "\n",
        "\n",
        "    tokens = text.split()\n",
        "    input_seq = [word_to_idx[token] for token in tokens if token in word_to_idx]  # Filter valid tokens\n",
        "\n",
        "\n",
        "    if not input_seq:\n",
        "        raise ValueError(\"Seed text contains no valid words from the vocabulary.\")\n",
        "\n",
        "    # Truncate or pad the sequence to `seq_len`\n",
        "    input_seq = input_seq[-seq_len:]\n",
        "    input_tensor = torch.tensor(input_seq).unsqueeze(0).to(device)  # Add batch dimension\n",
        "\n",
        "    with torch.no_grad():\n",
        "        for _ in range(test_len):\n",
        "            # Pass the input sequence through the model\n",
        "            test_output, _ = model(input_tensor)\n",
        "\n",
        "            # Apply temperature scaling\n",
        "            logits = test_output.squeeze(0) / temperature\n",
        "            probs = torch.softmax(logits, dim=-1)\n",
        "\n",
        "            # Sample a word index from the probability distribution\n",
        "            predicted_idx = torch.multinomial(probs, 1).item()\n",
        "\n",
        "            # Get the predicted word\n",
        "            if predicted_idx not in idx_to_word:\n",
        "                # If somehow the index is invalid, skip\n",
        "                continue\n",
        "            predicted_word = idx_to_word[predicted_idx]\n",
        "\n",
        "            # Append the predicted word to the generated text\n",
        "            generated_text += ' ' + predicted_word\n",
        "\n",
        "            # Update the input sequence:\n",
        "            input_seq = input_seq[1:] + [predicted_idx]\n",
        "            input_tensor = torch.tensor(input_seq).unsqueeze(0).to(device)  # Update tensor\n",
        "\n",
        "    return generated_text\n"
      ],
      "metadata": {
        "trusted": true,
        "execution": {
          "iopub.status.busy": "2024-12-05T12:48:27.63963Z",
          "iopub.execute_input": "2024-12-05T12:48:27.639914Z",
          "iopub.status.idle": "2024-12-05T12:48:27.64831Z",
          "shell.execute_reply.started": "2024-12-05T12:48:27.639888Z",
          "shell.execute_reply": "2024-12-05T12:48:27.647459Z"
        },
        "id": "nv8Rl_bM4KRk"
      },
      "outputs": [],
      "execution_count": null
    },
    {
      "cell_type": "code",
      "source": [
        "test_seq2(model, word_to_idx, idx_to_word, \"impact of covid\", 100, 10, 'cuda', temperature=1.0)"
      ],
      "metadata": {
        "trusted": true,
        "execution": {
          "iopub.status.busy": "2024-12-05T12:48:27.649461Z",
          "iopub.execute_input": "2024-12-05T12:48:27.650264Z",
          "iopub.status.idle": "2024-12-05T12:48:28.170763Z",
          "shell.execute_reply.started": "2024-12-05T12:48:27.650234Z",
          "shell.execute_reply": "2024-12-05T12:48:28.169817Z"
        },
        "id": "y9-ZSt7I4KRk",
        "outputId": "8a8570c4-1910-4f39-f0ea-19a2d04f4806"
      },
      "outputs": [
        {
          "execution_count": 73,
          "output_type": "execute_result",
          "data": {
            "text/plain": "'impact of covid patients more than could account for who th or experts in this we found significant differences with a sarscov test adverse distinct environment this observation may be to reduce the integration inhibition of severe acute respiratory tract andor time the value of the guiding members to draw conclusions prrsv plp belongs to virus surveillance for a result during recombination acts and the ai system status of complex note the continuous co monitoring which by cml patients with emphasis on transcription the epidemiology requirements of protection against on critical infection analyses enhanced loss will be reliably detected in a result were'"
          },
          "metadata": {}
        }
      ],
      "execution_count": null
    },
    {
      "cell_type": "code",
      "source": [
        "test_seq2(model, word_to_idx, idx_to_word,\"outbreak of \",100,10, 'cuda', temperature=1.0)"
      ],
      "metadata": {
        "trusted": true,
        "execution": {
          "iopub.status.busy": "2024-12-05T12:49:27.10962Z",
          "iopub.execute_input": "2024-12-05T12:49:27.110258Z",
          "iopub.status.idle": "2024-12-05T12:49:27.319697Z",
          "shell.execute_reply.started": "2024-12-05T12:49:27.110222Z",
          "shell.execute_reply": "2024-12-05T12:49:27.318813Z"
        },
        "id": "6GbsnaQ24KRk",
        "outputId": "99c6112c-d74a-41e6-9998-696ff83a960a"
      },
      "outputs": [
        {
          "execution_count": 75,
          "output_type": "execute_result",
          "data": {
            "text/plain": "'outbreak of  the new dynamics in two stage the main management of the united states taking a positive cases after even though the present low monitoring practices and we find that affect the triggered similar to their corresponding can be among humans subjects with a preliminary consumers income with covid sarscov less tightly and viruses such as well understood a large abstract recommendations knowledge in the molecular virus spreads of expenses leading to increase aortic severe acute respiratory syndrome patient presented exposures despite for people in covid positive result of the face of the average gene encoding in the accuracy of per'"
          },
          "metadata": {}
        }
      ],
      "execution_count": null
    },
    {
      "cell_type": "code",
      "source": [
        "test_seq2(model,word_to_idx, idx_to_word,\"with increasing patients\",100,10, 'cuda', temperature=1.0)"
      ],
      "metadata": {
        "trusted": true,
        "execution": {
          "iopub.status.busy": "2024-12-05T12:50:15.556617Z",
          "iopub.execute_input": "2024-12-05T12:50:15.556973Z",
          "iopub.status.idle": "2024-12-05T12:50:15.757718Z",
          "shell.execute_reply.started": "2024-12-05T12:50:15.556941Z",
          "shell.execute_reply": "2024-12-05T12:50:15.756748Z"
        },
        "id": "78B1jkeD4KRk",
        "outputId": "a934809a-7871-410c-e7d4-bc3c3da36ad4"
      },
      "outputs": [
        {
          "execution_count": 77,
          "output_type": "execute_result",
          "data": {
            "text/plain": "'with increasing patients admitted to intensive care unit resources services and not operating by rtpcr when involve level five lack of available was not observed may represent the most coronary artery disease all the outside of infections andor being predominantly clinical ejecta deposits surrounding and aa carboxyterminal end employing decoding of samples on the patient animal bodies to controls and infection and pe of symptoms which can be to help offset among healthcare environment is often to give at baseline than to the synthesis cellmediated her shins and the presence of fusion pulmonary infection by the initial chest levels genes have to competition'"
          },
          "metadata": {}
        }
      ],
      "execution_count": null
    },
    {
      "cell_type": "markdown",
      "source": [
        "The generated results exhibit a sense of structure but could be improved with several enhancements.\n",
        "\n",
        "Implementing a character-level LSTM instead of a word-level approach would better capture subword patterns and handle out-of-vocabulary tokens.\n",
        "\n",
        "Additionally, the corpus, despite preprocessing (e.g., removing URLs and emails), still contains nonsensical words like \"der,\" highlighting the need for more rigorous cleaning.\n",
        "\n",
        "Using only the last hidden states of the LSTM, while computationally efficient and memory-friendly due to resource limitations, sacrifices the ability to capture the full sequence dynamics. Ideally, the entire LSTM sequence output should be utilized to better represent the context across the input.\n",
        "\n",
        "To maintain continuity during training, datasets were constructed by concatenating abstracts. However, this approach introduces the risk of generating words that, are wrongly declared contextually relevant.\n",
        "\n",
        "Finally, training could have been extended over more epochs to improve results, but GPU limitations restricted the duration. Addressing these limitations could significantly enhance the quality of the generated results."
      ],
      "metadata": {
        "id": "o0LHf2csBVe2"
      }
    },
    {
      "cell_type": "code",
      "source": [],
      "metadata": {
        "id": "1awCnPIGFslD"
      },
      "execution_count": null,
      "outputs": []
    }
  ]
}